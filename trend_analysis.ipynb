{
 "cells": [
  {
   "cell_type": "code",
   "execution_count": 3,
   "id": "33d2d751-7849-4546-853a-93152da9c124",
   "metadata": {},
   "outputs": [
    {
     "name": "stdout",
     "output_type": "stream",
     "text": [
      "✅ Doctor schedule prediction:\n",
      "\n",
      "I have found some times that are less busy.\n"
     ]
    }
   ],
   "source": [
    "import requests\n",
    "\n",
    "# ✅ Your IBM Cloud credentials\n",
    "API_KEY = \"wlNQomWESII0CJ0qR-eqsMenivfogbGqUhfTKomKvfJm\"\n",
    "PROJECT_ID = \"175e0636-b309-488b-a296-fc7a95fbd42d\"\n",
    "\n",
    "# ✅ Step 1: Get IAM access token\n",
    "def get_ibm_access_token(api_key):\n",
    "    url = \"https://iam.cloud.ibm.com/identity/token\"\n",
    "    headers = { \"Content-Type\": \"application/x-www-form-urlencoded\" }\n",
    "    data = {\n",
    "        \"grant_type\": \"urn:ibm:params:oauth:grant-type:apikey\",\n",
    "        \"apikey\": api_key\n",
    "    }\n",
    "    response = requests.post(url, headers=headers, data=data)\n",
    "    if response.status_code != 200:\n",
    "        raise Exception(\"❌ Failed to get access token:\\n\" + response.text)\n",
    "    return response.json()[\"access_token\"]\n",
    "\n",
    "# ✅ Step 2: Call Granite model with your prompt\n",
    "def predict_doctor_schedule(access_token):\n",
    "    url = \"https://us-south.ml.cloud.ibm.com/ml/v1/text/generation?version=2023-05-29\"\n",
    "    \n",
    "    prompt = \"\"\"<|user|>\n",
    "Medical Trends Predictor* | Predict future appointment loads or busy days using patient visit data — helps doctors plan better. |\n",
    "<|assistant|>\n",
    "I can help you with that. Medical Trends Predictor* is a tool that uses historical patient appointment data to predict future appointment loads and busy days. This information can help doctors plan their schedules more efficiently and provide better patient care.\n",
    "<|user|>\n",
    "i will give you data then you predict the week schedule of doctor\n",
    "<|assistant|>\n",
    "I would be happy to do that.\n",
    "<|user|>\n",
    "Date,Number_of_Patients\n",
    "2024-03-01,95\n",
    "2024-03-02,120\n",
    "2024-03-03,105\n",
    "2024-03-04,130\n",
    "2024-03-05,92\n",
    "2024-03-06,115\n",
    "2024-03-07,100\n",
    "2024-03-08,90\n",
    "2024-03-09,125\n",
    "2024-03-10,80\n",
    "2024-03-11,110\n",
    "2024-03-12,102\n",
    "2024-03-13,140\n",
    "2024-03-14,108\n",
    "2024-03-15,95\n",
    "2024-03-16,130\n",
    "2024-03-17,85\n",
    "2024-03-18,117\n",
    "2024-03-19,123\n",
    "2024-03-20,99\n",
    "2024-03-21,105\n",
    "2024-03-22,125\n",
    "2024-03-23,135\n",
    "2024-03-24,87\n",
    "2024-03-25,120\n",
    "2024-03-26,97\n",
    "2024-03-27,100\n",
    "2024-03-28,110\n",
    "2024-03-29,115\n",
    "2024-03-30,90\n",
    "<|user|>\n",
    "suggest me which time is best for my arrival on this week\n",
    "<|assistant|>\n",
    "\"\"\"\n",
    "\n",
    "    body = {\n",
    "        \"input\": prompt,\n",
    "        \"parameters\": {\n",
    "            \"decoding_method\": \"greedy\",\n",
    "            \"max_new_tokens\": 900,\n",
    "            \"min_new_tokens\": 0,\n",
    "            \"repetition_penalty\": 1.05\n",
    "        },\n",
    "        \"model_id\": \"ibm/granite-13b-instruct-v2\",\n",
    "        \"project_id\": PROJECT_ID\n",
    "    }\n",
    "\n",
    "    headers = {\n",
    "        \"Accept\": \"application/json\",\n",
    "        \"Content-Type\": \"application/json\",\n",
    "        \"Authorization\": f\"Bearer {access_token}\"\n",
    "    }\n",
    "\n",
    "    response = requests.post(url, headers=headers, json=body)\n",
    "    \n",
    "    if response.status_code != 200:\n",
    "        raise Exception(\"❌ API call failed:\\n\" + response.text)\n",
    "\n",
    "    return response.json()[\"results\"][0][\"generated_text\"]\n",
    "\n",
    "# ✅ Step 3: Run everything\n",
    "try:\n",
    "    token = get_ibm_access_token(API_KEY)\n",
    "    result = predict_doctor_schedule(token)\n",
    "    print(\"✅ Doctor schedule prediction:\\n\")\n",
    "    print(result)\n",
    "except Exception as e:\n",
    "    print(\"❌ Error:\", str(e))\n"
   ]
  },
  {
   "cell_type": "code",
   "execution_count": 5,
   "id": "50911a1c-f541-4d8d-a01a-0d04f6db5e77",
   "metadata": {},
   "outputs": [
    {
     "ename": "SyntaxError",
     "evalue": "invalid syntax (1016503317.py, line 1)",
     "output_type": "error",
     "traceback": [
      "\u001b[1;36m  Cell \u001b[1;32mIn[5], line 1\u001b[1;36m\u001b[0m\n\u001b[1;33m    monday schedule\u001b[0m\n\u001b[1;37m           ^\u001b[0m\n\u001b[1;31mSyntaxError\u001b[0m\u001b[1;31m:\u001b[0m invalid syntax\n"
     ]
    }
   ],
   "source": [
    "monday schedule\n"
   ]
  },
  {
   "cell_type": "code",
   "execution_count": null,
   "id": "ef02b60c-f0e1-42cc-bf87-cc9b382a8a62",
   "metadata": {},
   "outputs": [],
   "source": []
  }
 ],
 "metadata": {
  "kernelspec": {
   "display_name": "Python 3 (ipykernel)",
   "language": "python",
   "name": "python3"
  },
  "language_info": {
   "codemirror_mode": {
    "name": "ipython",
    "version": 3
   },
   "file_extension": ".py",
   "mimetype": "text/x-python",
   "name": "python",
   "nbconvert_exporter": "python",
   "pygments_lexer": "ipython3",
   "version": "3.12.4"
  }
 },
 "nbformat": 4,
 "nbformat_minor": 5
}
