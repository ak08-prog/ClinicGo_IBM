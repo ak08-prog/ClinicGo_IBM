{
 "cells": [
  {
   "cell_type": "code",
   "execution_count": 9,
   "id": "35e646fb-7b4e-4858-99ca-50e67d92b999",
   "metadata": {},
   "outputs": [
    {
     "name": "stdout",
     "output_type": "stream",
     "text": [
      "Defaulting to user installation because normal site-packages is not writeable\n",
      "Collecting qrcode[pil]\n",
      "  Downloading qrcode-8.2-py3-none-any.whl.metadata (17 kB)\n",
      "Requirement already satisfied: colorama in c:\\programdata\\anaconda3\\lib\\site-packages (from qrcode[pil]) (0.4.6)\n",
      "Requirement already satisfied: pillow>=9.1.0 in c:\\programdata\\anaconda3\\lib\\site-packages (from qrcode[pil]) (10.3.0)\n",
      "Downloading qrcode-8.2-py3-none-any.whl (45 kB)\n",
      "   ---------------------------------------- 0.0/46.0 kB ? eta -:--:--\n",
      "   -------- ------------------------------- 10.2/46.0 kB ? eta -:--:--\n",
      "   -------------------------- ------------- 30.7/46.0 kB 640.0 kB/s eta 0:00:01\n",
      "   ---------------------------------------- 46.0/46.0 kB 567.4 kB/s eta 0:00:00\n",
      "Installing collected packages: qrcode\n",
      "Successfully installed qrcode-8.2\n"
     ]
    },
    {
     "name": "stderr",
     "output_type": "stream",
     "text": [
      "  WARNING: The script qr.exe is installed in 'C:\\Users\\priyansh\\AppData\\Roaming\\Python\\Python312\\Scripts' which is not on PATH.\n",
      "  Consider adding this directory to PATH or, if you prefer to suppress this warning, use --no-warn-script-location.\n"
     ]
    }
   ],
   "source": [
    "!pip install qrcode[pil]\n"
   ]
  },
  {
   "cell_type": "code",
   "execution_count": 17,
   "id": "6b87e8dd-fcb7-4957-a205-c0f201df3df1",
   "metadata": {},
   "outputs": [],
   "source": [
    "import qrcode\n",
    "import http.server\n",
    "import socketserver\n",
    "import threading\n",
    "import socket\n",
    "import sys\n",
    "\n",
    "PORT = 8000\n",
    "current_token = 0\n"
   ]
  },
  {
   "cell_type": "code",
   "execution_count": 19,
   "id": "168a504a-3709-41b7-b6f8-c192549a461b",
   "metadata": {},
   "outputs": [],
   "source": [
    "class TokenHandler(http.server.SimpleHTTPRequestHandler):\n",
    "    def do_GET(self):\n",
    "        global current_token\n",
    "        if self.path == '/':\n",
    "            current_token += 1\n",
    "            self.send_response(200)\n",
    "            self.send_header(\"Content-type\", \"text/html\")\n",
    "            self.end_headers()\n",
    "            message = f\"<h1>Your Token Number is: {current_token}</h1><p>Thank you!</p>\"\n",
    "            self.wfile.write(message.encode('utf-8'))\n",
    "        else:\n",
    "            self.send_error(404, \"Page not found.\")\n"
   ]
  },
  {
   "cell_type": "code",
   "execution_count": 21,
   "id": "8235366d-8897-45c2-9aac-66c309634c95",
   "metadata": {},
   "outputs": [],
   "source": [
    "def start_server():\n",
    "    with socketserver.TCPServer((\"\", PORT), TokenHandler) as httpd:\n",
    "        print(f\"Server running at port {PORT}\")\n",
    "        httpd.serve_forever()\n"
   ]
  },
  {
   "cell_type": "code",
   "execution_count": 23,
   "id": "89afc438-9b9e-4802-a87a-14a864aafd0d",
   "metadata": {},
   "outputs": [],
   "source": [
    "def get_ip_address():\n",
    "    s = socket.socket(socket.AF_INET, socket.SOCK_DGRAM)\n",
    "    try:\n",
    "        s.connect(('10.255.255.255', 1))\n",
    "        IP = s.getsockname()[0]\n",
    "    except Exception:\n",
    "        IP = '127.0.0.1'\n",
    "    finally:\n",
    "        s.close()\n",
    "    return IP\n"
   ]
  },
  {
   "cell_type": "code",
   "execution_count": 25,
   "id": "07629f56-47be-4be5-9cdd-a52069f013b9",
   "metadata": {},
   "outputs": [],
   "source": [
    "def generate_terminal_qr(url):\n",
    "    qr = qrcode.QRCode()\n",
    "    qr.add_data(url)\n",
    "    qr.make()\n",
    "    qr.print_ascii(invert=True) \n"
   ]
  },
  {
   "cell_type": "code",
   "execution_count": null,
   "id": "3c63b1ff-2863-46d9-a356-5652fe0d63de",
   "metadata": {},
   "outputs": [
    {
     "name": "stdout",
     "output_type": "stream",
     "text": [
      "\n",
      "Scan this QR code with your phone:\n",
      "Server running at port 8000\n",
      "\n",
      "█████████████████████████████████\n",
      "█████████████████████████████████\n",
      "████ ▄▄▄▄▄ █ ▄▄ ▄  ▄▄█ ▄▄▄▄▄ ████\n",
      "████ █   █ █▄ ▄█ ▄▀▄ █ █   █ ████\n",
      "████ █▄▄▄█ █▄▀  ██ █▀█ █▄▄▄█ ████\n",
      "████▄▄▄▄▄▄▄█▄▀▄█ ▀▄▀ █▄▄▄▄▄▄▄████\n",
      "████ ██ ▄▄▄▄▄ ▀ ▄█ ▀▀ ▀▀ ▀  ▄████\n",
      "████▄▀ █▄▀▄█▄▄▄▄▄█▄▄ ██▀█ ▀▀ ████\n",
      "████ ▄▄▀▄▀▄▀▀▀▄█▀▄ █▀ █  ██▀▄████\n",
      "████ ▄▄ ▄▀▄ ▄  █▀▀ ▀█▀ ▄ ▄ ▄ ████\n",
      "████▄████▄▄█ ▀█ ▄██▄ ▄▄▄ ▄  █████\n",
      "████ ▄▄▄▄▄ █ █▀▀▄ ▄  █▄█ ▄ █ ████\n",
      "████ █   █ █ ▀█▄▀ ██▄▄▄ ▄ ▀▄ ████\n",
      "████ █▄▄▄█ ██ ▄ ▀ ██▄▀  ▀▀▄  ████\n",
      "████▄▄▄▄▄▄▄█▄▄█▄▄▄██▄█▄█▄▄██▄████\n",
      "█████████████████████████████████\n",
      "▀▀▀▀▀▀▀▀▀▀▀▀▀▀▀▀▀▀▀▀▀▀▀▀▀▀▀▀▀▀▀▀▀\n",
      "\n",
      "Or open this URL manually: http://192.168.1.2:8000/\n",
      "\n",
      "Server is running... Press CTRL+C to stop.\n"
     ]
    },
    {
     "name": "stderr",
     "output_type": "stream",
     "text": [
      "192.168.1.4 - - [02/May/2025 21:55:36] \"GET / HTTP/1.1\" 200 -\n",
      "192.168.1.4 - - [02/May/2025 21:55:37] code 404, message Page not found.\n",
      "192.168.1.4 - - [02/May/2025 21:55:37] \"GET /favicon.ico HTTP/1.1\" 404 -\n",
      "192.168.1.4 - - [02/May/2025 21:55:40] \"GET / HTTP/1.1\" 200 -\n"
     ]
    }
   ],
   "source": [
    "threading.Thread(target=start_server, daemon=True).start()\n",
    "\n",
    "ip = get_ip_address()\n",
    "url = f\"http://{ip}:{PORT}/\"\n",
    "\n",
    "print(\"\\nScan this QR code with your phone:\\n\")\n",
    "generate_terminal_qr(url)\n",
    "\n",
    "print(f\"\\nOr open this URL manually: {url}\")\n",
    "print(\"\\nServer is running... Press CTRL+C to stop.\")\n",
    "\n",
    "try:\n",
    "    while True:\n",
    "        pass\n",
    "except KeyboardInterrupt:\n",
    "    print(\"\\nServer stopped.\")\n",
    "    sys.exit(0)\n"
   ]
  },
  {
   "cell_type": "code",
   "execution_count": null,
   "id": "25c92483-882e-4170-a518-23d0f4e869be",
   "metadata": {},
   "outputs": [],
   "source": []
  }
 ],
 "metadata": {
  "kernelspec": {
   "display_name": "Python 3 (ipykernel)",
   "language": "python",
   "name": "python3"
  },
  "language_info": {
   "codemirror_mode": {
    "name": "ipython",
    "version": 3
   },
   "file_extension": ".py",
   "mimetype": "text/x-python",
   "name": "python",
   "nbconvert_exporter": "python",
   "pygments_lexer": "ipython3",
   "version": "3.12.4"
  }
 },
 "nbformat": 4,
 "nbformat_minor": 5
}
