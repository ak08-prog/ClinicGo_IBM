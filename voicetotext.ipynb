{
 "cells": [
  {
   "cell_type": "code",
   "execution_count": 1,
   "id": "f637a99e",
   "metadata": {},
   "outputs": [
    {
     "name": "stderr",
     "output_type": "stream",
     "text": [
      "Sudo is disabled on this machine. To enable it, go to the \u001b]8;;ms-settings:developers\u001b\\Developer Settings page\u001b]8;;\u001b\\ in the Settings app\n"
     ]
    }
   ],
   "source": [
    "!sudo apt-get install portaudio19-dev"
   ]
  },
  {
   "cell_type": "code",
   "execution_count": 2,
   "id": "1cd75441",
   "metadata": {},
   "outputs": [
    {
     "name": "stdout",
     "output_type": "stream",
     "text": [
      "Requirement already satisfied: PyAudio in e:\\jupyter\\lib\\site-packages (0.2.14)\n"
     ]
    },
    {
     "name": "stderr",
     "output_type": "stream",
     "text": [
      "\n",
      "[notice] A new release of pip is available: 25.1 -> 25.1.1\n",
      "[notice] To update, run: python.exe -m pip install --upgrade pip\n"
     ]
    }
   ],
   "source": [
    "!pip install PyAudio"
   ]
  },
  {
   "cell_type": "code",
   "execution_count": null,
   "id": "8ce122c7",
   "metadata": {},
   "outputs": [],
   "source": [
    "!pip install SpeechRecognition\n"
   ]
  },
  {
   "cell_type": "code",
   "execution_count": 1,
   "id": "816333eb",
   "metadata": {},
   "outputs": [
    {
     "name": "stdout",
     "output_type": "stream",
     "text": [
      "Adjusting for ambient noise... (Stay silent for 1-2 seconds)\n",
      "Speak now...\n",
      "Processing...\n",
      "Result: hello hello hello hello\n"
     ]
    }
   ],
   "source": [
    "import speech_recognition as sr\n",
    "\n",
    "def speech_to_text():\n",
    "    # Initialize the recognizer\n",
    "    recognizer = sr.Recognizer()\n",
    "\n",
    "    # Use the default microphone as the audio source\n",
    "    with sr.Microphone() as source:\n",
    "        print(\"Adjusting for ambient noise... (Stay silent for 1-2 seconds)\")\n",
    "        recognizer.adjust_for_ambient_noise(source, duration=1)\n",
    "        print(\"Speak now...\")\n",
    "\n",
    "        try:\n",
    "            # Listen to the microphone input\n",
    "            audio = recognizer.listen(source, timeout=5, phrase_time_limit=10)\n",
    "            print(\"Processing...\")\n",
    "\n",
    "            # Use Google Web Speech API to convert audio to text\n",
    "            text = recognizer.recognize_google(audio)\n",
    "            return text\n",
    "\n",
    "        except sr.WaitTimeoutError:\n",
    "            return \"No speech detected within the timeout period.\"\n",
    "        except sr.UnknownValueError:\n",
    "            return \"Could not understand the audio.\"\n",
    "        except sr.RequestError as e:\n",
    "            return f\"API request failed: {e}\"\n",
    "\n",
    "if __name__ == \"__main__\":\n",
    "    result = speech_to_text()\n",
    "    print(\"Result:\", result)"
   ]
  }
 ],
 "metadata": {
  "kernelspec": {
   "display_name": "base",
   "language": "python",
   "name": "python3"
  },
  "language_info": {
   "codemirror_mode": {
    "name": "ipython",
    "version": 3
   },
   "file_extension": ".py",
   "mimetype": "text/x-python",
   "name": "python",
   "nbconvert_exporter": "python",
   "pygments_lexer": "ipython3",
   "version": "3.12.7"
  }
 },
 "nbformat": 4,
 "nbformat_minor": 5
}
